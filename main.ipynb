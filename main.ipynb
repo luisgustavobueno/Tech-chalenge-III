{
 "cells": [
  {
   "cell_type": "code",
   "execution_count": 8,
   "metadata": {},
   "outputs": [
    {
     "name": "stdout",
     "output_type": "stream",
     "text": [
      "Defaulting to user installation because normal site-packages is not writeable\n",
      "Requirement already satisfied: transformers in /home/luis/.local/lib/python3.10/site-packages (4.46.3)\n",
      "Requirement already satisfied: datasets in /home/luis/.local/lib/python3.10/site-packages (3.1.0)\n",
      "Requirement already satisfied: peft in /home/luis/.local/lib/python3.10/site-packages (0.13.2)\n",
      "Requirement already satisfied: accelerate in /home/luis/.local/lib/python3.10/site-packages (1.1.1)\n",
      "Requirement already satisfied: bitsandbytes in /home/luis/.local/lib/python3.10/site-packages (0.41.1)\n",
      "Requirement already satisfied: xformers in /home/luis/.local/lib/python3.10/site-packages (0.0.28.post3)\n",
      "Requirement already satisfied: unsloth in /home/luis/.local/lib/python3.10/site-packages (2024.11.5)\n",
      "Requirement already satisfied: pyyaml>=5.1 in /usr/lib/python3/dist-packages (from transformers) (5.4.1)\n",
      "Requirement already satisfied: safetensors>=0.4.1 in /home/luis/.local/lib/python3.10/site-packages (from transformers) (0.4.5)\n",
      "Requirement already satisfied: huggingface-hub<1.0,>=0.23.2 in /home/luis/.local/lib/python3.10/site-packages (from transformers) (0.26.2)\n",
      "Requirement already satisfied: numpy>=1.17 in /home/luis/.local/lib/python3.10/site-packages (from transformers) (2.0.0)\n",
      "Requirement already satisfied: regex!=2019.12.17 in /home/luis/.local/lib/python3.10/site-packages (from transformers) (2024.11.6)\n",
      "Requirement already satisfied: requests in /home/luis/.local/lib/python3.10/site-packages (from transformers) (2.32.3)\n",
      "Requirement already satisfied: tqdm>=4.27 in /home/luis/.local/lib/python3.10/site-packages (from transformers) (4.67.0)\n",
      "Requirement already satisfied: filelock in /home/luis/.local/lib/python3.10/site-packages (from transformers) (3.15.1)\n",
      "Requirement already satisfied: tokenizers<0.21,>=0.20 in /home/luis/.local/lib/python3.10/site-packages (from transformers) (0.20.3)\n",
      "Requirement already satisfied: packaging>=20.0 in /home/luis/.local/lib/python3.10/site-packages (from transformers) (24.1)\n",
      "Requirement already satisfied: pyarrow>=15.0.0 in /home/luis/.local/lib/python3.10/site-packages (from datasets) (18.0.0)\n",
      "Requirement already satisfied: xxhash in /home/luis/.local/lib/python3.10/site-packages (from datasets) (3.5.0)\n",
      "Requirement already satisfied: dill<0.3.9,>=0.3.0 in /home/luis/.local/lib/python3.10/site-packages (from datasets) (0.3.8)\n",
      "Requirement already satisfied: pandas in /home/luis/.local/lib/python3.10/site-packages (from datasets) (2.2.2)\n",
      "Requirement already satisfied: aiohttp in /home/luis/.local/lib/python3.10/site-packages (from datasets) (3.10.10)\n",
      "Requirement already satisfied: fsspec[http]<=2024.9.0,>=2023.1.0 in /home/luis/.local/lib/python3.10/site-packages (from datasets) (2024.6.0)\n",
      "Requirement already satisfied: multiprocess<0.70.17 in /home/luis/.local/lib/python3.10/site-packages (from datasets) (0.70.16)\n",
      "Requirement already satisfied: psutil in /home/luis/.local/lib/python3.10/site-packages (from peft) (6.0.0)\n",
      "Requirement already satisfied: torch>=1.13.0 in /home/luis/.local/lib/python3.10/site-packages (from peft) (2.5.1)\n",
      "Requirement already satisfied: nvidia-cusolver-cu12==11.6.1.9 in /home/luis/.local/lib/python3.10/site-packages (from torch>=1.13.0->peft) (11.6.1.9)\n",
      "Requirement already satisfied: nvidia-cuda-nvrtc-cu12==12.4.127 in /home/luis/.local/lib/python3.10/site-packages (from torch>=1.13.0->peft) (12.4.127)\n",
      "Requirement already satisfied: nvidia-cudnn-cu12==9.1.0.70 in /home/luis/.local/lib/python3.10/site-packages (from torch>=1.13.0->peft) (9.1.0.70)\n",
      "Requirement already satisfied: nvidia-nccl-cu12==2.21.5 in /home/luis/.local/lib/python3.10/site-packages (from torch>=1.13.0->peft) (2.21.5)\n",
      "Requirement already satisfied: typing-extensions>=4.8.0 in /home/luis/.local/lib/python3.10/site-packages (from torch>=1.13.0->peft) (4.12.2)\n",
      "Requirement already satisfied: nvidia-cusparse-cu12==12.3.1.170 in /home/luis/.local/lib/python3.10/site-packages (from torch>=1.13.0->peft) (12.3.1.170)\n",
      "Requirement already satisfied: nvidia-cublas-cu12==12.4.5.8 in /home/luis/.local/lib/python3.10/site-packages (from torch>=1.13.0->peft) (12.4.5.8)\n",
      "Requirement already satisfied: sympy==1.13.1 in /home/luis/.local/lib/python3.10/site-packages (from torch>=1.13.0->peft) (1.13.1)\n",
      "Requirement already satisfied: jinja2 in /home/luis/.local/lib/python3.10/site-packages (from torch>=1.13.0->peft) (3.1.4)\n",
      "Requirement already satisfied: nvidia-cufft-cu12==11.2.1.3 in /home/luis/.local/lib/python3.10/site-packages (from torch>=1.13.0->peft) (11.2.1.3)\n",
      "Requirement already satisfied: nvidia-cuda-cupti-cu12==12.4.127 in /home/luis/.local/lib/python3.10/site-packages (from torch>=1.13.0->peft) (12.4.127)\n",
      "Requirement already satisfied: nvidia-nvjitlink-cu12==12.4.127 in /home/luis/.local/lib/python3.10/site-packages (from torch>=1.13.0->peft) (12.4.127)\n",
      "Requirement already satisfied: nvidia-cuda-runtime-cu12==12.4.127 in /home/luis/.local/lib/python3.10/site-packages (from torch>=1.13.0->peft) (12.4.127)\n",
      "Requirement already satisfied: nvidia-curand-cu12==10.3.5.147 in /home/luis/.local/lib/python3.10/site-packages (from torch>=1.13.0->peft) (10.3.5.147)\n",
      "Requirement already satisfied: networkx in /home/luis/.local/lib/python3.10/site-packages (from torch>=1.13.0->peft) (3.3)\n",
      "Requirement already satisfied: nvidia-nvtx-cu12==12.4.127 in /home/luis/.local/lib/python3.10/site-packages (from torch>=1.13.0->peft) (12.4.127)\n",
      "Requirement already satisfied: triton==3.1.0 in /home/luis/.local/lib/python3.10/site-packages (from torch>=1.13.0->peft) (3.1.0)\n",
      "Requirement already satisfied: mpmath<1.4,>=1.1.0 in /home/luis/.local/lib/python3.10/site-packages (from sympy==1.13.1->torch>=1.13.0->peft) (1.3.0)\n",
      "Requirement already satisfied: unsloth-zoo>=2024.11.1 in /home/luis/.local/lib/python3.10/site-packages (from unsloth) (2024.11.4)\n",
      "Requirement already satisfied: hf-transfer in /home/luis/.local/lib/python3.10/site-packages (from unsloth) (0.1.8)\n",
      "Requirement already satisfied: sentencepiece>=0.2.0 in /home/luis/.local/lib/python3.10/site-packages (from unsloth) (0.2.0)\n",
      "Requirement already satisfied: tyro in /home/luis/.local/lib/python3.10/site-packages (from unsloth) (0.8.14)\n",
      "Requirement already satisfied: protobuf<4.0.0 in /usr/lib/python3/dist-packages (from unsloth) (3.12.4)\n",
      "Requirement already satisfied: wheel>=0.42.0 in /home/luis/.local/lib/python3.10/site-packages (from unsloth) (0.45.0)\n",
      "Requirement already satisfied: trl!=0.9.0,!=0.9.1,!=0.9.2,!=0.9.3,>=0.7.9 in /home/luis/.local/lib/python3.10/site-packages (from unsloth) (0.8.6)\n",
      "Requirement already satisfied: yarl<2.0,>=1.12.0 in /home/luis/.local/lib/python3.10/site-packages (from aiohttp->datasets) (1.17.1)\n",
      "Requirement already satisfied: aiohappyeyeballs>=2.3.0 in /home/luis/.local/lib/python3.10/site-packages (from aiohttp->datasets) (2.4.3)\n",
      "Requirement already satisfied: multidict<7.0,>=4.5 in /home/luis/.local/lib/python3.10/site-packages (from aiohttp->datasets) (6.1.0)\n",
      "Requirement already satisfied: aiosignal>=1.1.2 in /home/luis/.local/lib/python3.10/site-packages (from aiohttp->datasets) (1.3.1)\n",
      "Requirement already satisfied: async-timeout<5.0,>=4.0 in /home/luis/.local/lib/python3.10/site-packages (from aiohttp->datasets) (4.0.3)\n",
      "Requirement already satisfied: frozenlist>=1.1.1 in /home/luis/.local/lib/python3.10/site-packages (from aiohttp->datasets) (1.5.0)\n",
      "Requirement already satisfied: attrs>=17.3.0 in /home/luis/.local/lib/python3.10/site-packages (from aiohttp->datasets) (23.2.0)\n",
      "Requirement already satisfied: certifi>=2017.4.17 in /usr/lib/python3/dist-packages (from requests->transformers) (2020.6.20)\n",
      "Requirement already satisfied: urllib3<3,>=1.21.1 in /usr/lib/python3/dist-packages (from requests->transformers) (1.26.5)\n",
      "Requirement already satisfied: idna<4,>=2.5 in /usr/lib/python3/dist-packages (from requests->transformers) (3.3)\n",
      "Requirement already satisfied: charset-normalizer<4,>=2 in /home/luis/.local/lib/python3.10/site-packages (from requests->transformers) (3.3.2)\n",
      "Requirement already satisfied: docstring-parser>=0.16 in /home/luis/.local/lib/python3.10/site-packages (from tyro->unsloth) (0.16)\n",
      "Requirement already satisfied: rich>=11.1.0 in /home/luis/.local/lib/python3.10/site-packages (from tyro->unsloth) (13.9.4)\n",
      "Requirement already satisfied: shtab>=1.5.6 in /home/luis/.local/lib/python3.10/site-packages (from tyro->unsloth) (1.7.1)\n",
      "Requirement already satisfied: tzdata>=2022.7 in /home/luis/.local/lib/python3.10/site-packages (from pandas->datasets) (2024.1)\n",
      "Requirement already satisfied: python-dateutil>=2.8.2 in /home/luis/.local/lib/python3.10/site-packages (from pandas->datasets) (2.9.0.post0)\n",
      "Requirement already satisfied: pytz>=2020.1 in /usr/lib/python3/dist-packages (from pandas->datasets) (2022.1)\n",
      "Requirement already satisfied: six>=1.5 in /usr/lib/python3/dist-packages (from python-dateutil>=2.8.2->pandas->datasets) (1.16.0)\n",
      "Requirement already satisfied: markdown-it-py>=2.2.0 in /home/luis/.local/lib/python3.10/site-packages (from rich>=11.1.0->tyro->unsloth) (3.0.0)\n",
      "Requirement already satisfied: pygments<3.0.0,>=2.13.0 in /home/luis/.local/lib/python3.10/site-packages (from rich>=11.1.0->tyro->unsloth) (2.18.0)\n",
      "Requirement already satisfied: propcache>=0.2.0 in /home/luis/.local/lib/python3.10/site-packages (from yarl<2.0,>=1.12.0->aiohttp->datasets) (0.2.0)\n",
      "Requirement already satisfied: MarkupSafe>=2.0 in /usr/lib/python3/dist-packages (from jinja2->torch>=1.13.0->peft) (2.0.1)\n",
      "Requirement already satisfied: mdurl~=0.1 in /home/luis/.local/lib/python3.10/site-packages (from markdown-it-py>=2.2.0->rich>=11.1.0->tyro->unsloth) (0.1.2)\n",
      "Note: you may need to restart the kernel to use updated packages.\n"
     ]
    }
   ],
   "source": [
    "%pip install transformers datasets peft accelerate bitsandbytes xformers unsloth"
   ]
  },
  {
   "cell_type": "code",
   "execution_count": 5,
   "metadata": {},
   "outputs": [
    {
     "name": "stderr",
     "output_type": "stream",
     "text": [
      "/home/luis/.local/lib/python3.10/site-packages/tqdm/auto.py:21: TqdmWarning: IProgress not found. Please update jupyter and ipywidgets. See https://ipywidgets.readthedocs.io/en/stable/user_install.html\n",
      "  from .autonotebook import tqdm as notebook_tqdm\n"
     ]
    }
   ],
   "source": [
    "import json\n",
    "import pandas as pd\n",
    "from datasets import Dataset\n",
    "import torch\n",
    "from transformers import (\n",
    "    AutoTokenizer,\n",
    "    AutoModelForSeq2SeqLM,\n",
    "    Seq2SeqTrainer,\n",
    "    Seq2SeqTrainingArguments\n",
    ")"
   ]
  },
  {
   "cell_type": "code",
   "execution_count": 6,
   "metadata": {},
   "outputs": [
    {
     "name": "stdout",
     "output_type": "stream",
     "text": [
      "Treinando no dispositivo: cuda\n"
     ]
    }
   ],
   "source": [
    "device = torch.device(\"cuda\" if torch.cuda.is_available() else \"cpu\")\n",
    "print(f\"Treinando no dispositivo: {device}\")"
   ]
  },
  {
   "cell_type": "code",
   "execution_count": 3,
   "metadata": {},
   "outputs": [
    {
     "name": "stdout",
     "output_type": "stream",
     "text": [
      "Arquivo filtrado salvo em: filtered_data.json\n"
     ]
    }
   ],
   "source": [
    "file_path = \"trn.json\"\n",
    "\n",
    "data = []\n",
    "with open(file_path, \"r\") as file:\n",
    "    for line in file:\n",
    "        try:\n",
    "            data.append(json.loads(line))\n",
    "        except json.JSONDecodeError as e:\n",
    "            print(f\"Erro ao decodificar linha: {line}\")\n",
    "            print(f\"Detalhes do erro: {e}\")\n",
    "\n",
    "filtered_data = [{\"title\": entry[\"title\"], \"content\": entry[\"content\"]} for entry in data]\n",
    "\n",
    "output_file_path = \"filtered_data.json\"\n",
    "with open(output_file_path, \"w\") as output_file:\n",
    "    json.dump(filtered_data, output_file, indent=4)\n",
    "\n",
    "print(f\"Arquivo filtrado salvo em: {output_file_path}\")"
   ]
  },
  {
   "cell_type": "code",
   "execution_count": 7,
   "metadata": {},
   "outputs": [],
   "source": [
    "# Carregar o arquivo JSON\n",
    "with open('filtered_data.json', 'r') as f:\n",
    "    data = json.load(f)\n",
    "\n",
    "# Converter para DataFrame\n",
    "df = pd.DataFrame(data)"
   ]
  },
  {
   "cell_type": "code",
   "execution_count": 85,
   "metadata": {},
   "outputs": [],
   "source": [
    "def create_prompt(row):\n",
    "    return {\n",
    "        \"input\": f\"You are a book expert and should answer any question involving this title {row['title']}\",\n",
    "        \"output\": row[\"content\"]\n",
    "    }\n",
    "\n",
    "# Aplicar ao DataFrame\n",
    "fine_tune_data = df.apply(create_prompt, axis=1).tolist()"
   ]
  },
  {
   "cell_type": "code",
   "execution_count": 86,
   "metadata": {},
   "outputs": [],
   "source": [
    "# Aplicar ao DataFrame\n",
    "fine_tune_data = df.apply(create_prompt, axis=1).tolist()\n",
    "\n",
    "# Dividir os dados em treinamento e validação\n",
    "from sklearn.model_selection import train_test_split\n",
    "\n",
    "# Separar 10% dos dados para validação\n",
    "train_data, val_data = train_test_split(fine_tune_data[:10000], test_size=0.2)"
   ]
  },
  {
   "cell_type": "code",
   "execution_count": 87,
   "metadata": {},
   "outputs": [],
   "source": [
    "with open('train_data.json', 'w') as f:\n",
    "    json.dump(train_data, f, indent=4)\n",
    "\n",
    "with open('val_data.json', 'w') as f:\n",
    "    json.dump(val_data, f, indent=4)"
   ]
  },
  {
   "cell_type": "code",
   "execution_count": 88,
   "metadata": {},
   "outputs": [
    {
     "name": "stderr",
     "output_type": "stream",
     "text": [
      "Generating train split: 8000 examples [00:00, 95074.44 examples/s]\n",
      "Generating train split: 2000 examples [00:00, 154001.36 examples/s]\n"
     ]
    }
   ],
   "source": [
    "# Carregar os datasets\n",
    "train_dataset = Dataset.from_json(\"train_data.json\")\n",
    "val_dataset = Dataset.from_json(\"val_data.json\")\n"
   ]
  },
  {
   "cell_type": "code",
   "execution_count": 89,
   "metadata": {},
   "outputs": [
    {
     "name": "stdout",
     "output_type": "stream",
     "text": [
      "Modelo carregado no dispositivo: cuda:0\n"
     ]
    },
    {
     "name": "stderr",
     "output_type": "stream",
     "text": [
      "Map: 100%|██████████| 8000/8000 [00:01<00:00, 6614.05 examples/s]\n",
      "Map: 100%|██████████| 2000/2000 [00:00<00:00, 6583.54 examples/s]\n"
     ]
    }
   ],
   "source": [
    "# Escolha do modelo\n",
    "model_name = \"t5-small\"  # Altere para o modelo desejado, como \"mistralai/Mistral-7B\"\n",
    "tokenizer = AutoTokenizer.from_pretrained(model_name)\n",
    "model = AutoModelForSeq2SeqLM.from_pretrained(model_name)\n",
    "\n",
    "# Mover o modelo para o dispositivo\n",
    "model = model.to(device)  # Modificação: Move o modelo para GPU ou CPU\n",
    "print(f\"Modelo carregado no dispositivo: {model.device}\")\n",
    "\n",
    "# Função de tokenização\n",
    "def tokenize_function(examples):\n",
    "    return tokenizer(\n",
    "        examples[\"input\"], \n",
    "        text_target=examples[\"output\"], \n",
    "        truncation=True, \n",
    "        padding=\"max_length\", \n",
    "        max_length=256  # Modificação: Reduz o comprimento máximo para economizar memória\n",
    "    )\n",
    "\n",
    "# Tokenizar os datasets\n",
    "tokenized_train_dataset = train_dataset.map(tokenize_function, batched=True)\n",
    "tokenized_val_dataset = val_dataset.map(tokenize_function, batched=True)"
   ]
  },
  {
   "cell_type": "code",
   "execution_count": 90,
   "metadata": {},
   "outputs": [
    {
     "name": "stderr",
     "output_type": "stream",
     "text": [
      "/home/luis/.local/lib/python3.10/site-packages/transformers/training_args.py:1568: FutureWarning: `evaluation_strategy` is deprecated and will be removed in version 4.46 of 🤗 Transformers. Use `eval_strategy` instead\n",
      "  warnings.warn(\n"
     ]
    }
   ],
   "source": [
    "# Configurações de treinamento\n",
    "training_args = Seq2SeqTrainingArguments(\n",
    "    output_dir=\"./results\",\n",
    "    evaluation_strategy=\"epoch\",\n",
    "    learning_rate=3e-5,\n",
    "    per_device_train_batch_size=2,  # Modificação: Reduz o batch size para evitar OOM\n",
    "    gradient_accumulation_steps=4,  # Modificação: Acumula gradientes para simular batches maiores\n",
    "    num_train_epochs=3,\n",
    "    save_steps=500,\n",
    "    save_total_limit=2,\n",
    "    fp16=True,  # Modificação: Habilitar Mixed Precision Training\n",
    "    logging_dir='./logs',\n",
    "    predict_with_generate=True,\n",
    ")\n",
    "\n"
   ]
  },
  {
   "cell_type": "code",
   "execution_count": 91,
   "metadata": {},
   "outputs": [
    {
     "name": "stderr",
     "output_type": "stream",
     "text": [
      "/tmp/ipykernel_15912/3771103183.py:2: FutureWarning: `tokenizer` is deprecated and will be removed in version 5.0.0 for `Seq2SeqTrainer.__init__`. Use `processing_class` instead.\n",
      "  trainer = Seq2SeqTrainer(\n"
     ]
    }
   ],
   "source": [
    "# Criar o Trainer\n",
    "trainer = Seq2SeqTrainer(\n",
    "    model=model,\n",
    "    args=training_args,\n",
    "    train_dataset=tokenized_train_dataset,\n",
    "    eval_dataset=tokenized_val_dataset,\n",
    "    tokenizer=tokenizer,\n",
    ")"
   ]
  },
  {
   "cell_type": "code",
   "execution_count": 92,
   "metadata": {},
   "outputs": [
    {
     "name": "stderr",
     "output_type": "stream",
     "text": [
      " 17%|█▋        | 500/3000 [02:33<12:49,  3.25it/s]"
     ]
    },
    {
     "name": "stdout",
     "output_type": "stream",
     "text": [
      "{'loss': 3.3907, 'grad_norm': 2.348841905593872, 'learning_rate': 2.5090000000000002e-05, 'epoch': 0.5}\n"
     ]
    },
    {
     "name": "stderr",
     "output_type": "stream",
     "text": [
      " 33%|███▎      | 1000/3000 [05:08<10:14,  3.26it/s]"
     ]
    },
    {
     "name": "stdout",
     "output_type": "stream",
     "text": [
      "{'loss': 2.4213, 'grad_norm': 2.3896596431732178, 'learning_rate': 2.009e-05, 'epoch': 1.0}\n"
     ]
    },
    {
     "name": "stderr",
     "output_type": "stream",
     "text": [
      "\n",
      " 33%|███▎      | 1000/3000 [05:28<10:14,  3.26it/s]"
     ]
    },
    {
     "name": "stdout",
     "output_type": "stream",
     "text": [
      "{'eval_loss': 2.2688496112823486, 'eval_runtime': 19.282, 'eval_samples_per_second': 103.724, 'eval_steps_per_second': 12.965, 'epoch': 1.0}\n"
     ]
    },
    {
     "name": "stderr",
     "output_type": "stream",
     "text": [
      " 50%|█████     | 1500/3000 [08:02<07:42,  3.24it/s]  "
     ]
    },
    {
     "name": "stdout",
     "output_type": "stream",
     "text": [
      "{'loss': 2.3836, 'grad_norm': 2.0116751194000244, 'learning_rate': 1.5090000000000001e-05, 'epoch': 1.5}\n"
     ]
    },
    {
     "name": "stderr",
     "output_type": "stream",
     "text": [
      " 67%|██████▋   | 2000/3000 [10:37<05:06,  3.26it/s]"
     ]
    },
    {
     "name": "stdout",
     "output_type": "stream",
     "text": [
      "{'loss': 2.4116, 'grad_norm': 1.9103543758392334, 'learning_rate': 1.009e-05, 'epoch': 2.0}\n"
     ]
    },
    {
     "name": "stderr",
     "output_type": "stream",
     "text": [
      "\n",
      " 67%|██████▋   | 2000/3000 [10:57<05:06,  3.26it/s]"
     ]
    },
    {
     "name": "stdout",
     "output_type": "stream",
     "text": [
      "{'eval_loss': 2.231015920639038, 'eval_runtime': 19.2696, 'eval_samples_per_second': 103.79, 'eval_steps_per_second': 12.974, 'epoch': 2.0}\n"
     ]
    },
    {
     "name": "stderr",
     "output_type": "stream",
     "text": [
      " 83%|████████▎ | 2500/3000 [13:31<02:32,  3.27it/s]  "
     ]
    },
    {
     "name": "stdout",
     "output_type": "stream",
     "text": [
      "{'loss': 2.3986, 'grad_norm': 1.7840808629989624, 'learning_rate': 5.0899999999999995e-06, 'epoch': 2.5}\n"
     ]
    },
    {
     "name": "stderr",
     "output_type": "stream",
     "text": [
      "100%|██████████| 3000/3000 [16:06<00:00,  3.24it/s]"
     ]
    },
    {
     "name": "stdout",
     "output_type": "stream",
     "text": [
      "{'loss': 2.3434, 'grad_norm': 1.7220593690872192, 'learning_rate': 9e-08, 'epoch': 3.0}\n"
     ]
    },
    {
     "name": "stderr",
     "output_type": "stream",
     "text": [
      "\n",
      "100%|██████████| 3000/3000 [16:27<00:00,  3.04it/s]"
     ]
    },
    {
     "name": "stdout",
     "output_type": "stream",
     "text": [
      "{'eval_loss': 2.2218337059020996, 'eval_runtime': 19.2555, 'eval_samples_per_second': 103.866, 'eval_steps_per_second': 12.983, 'epoch': 3.0}\n",
      "{'train_runtime': 987.3166, 'train_samples_per_second': 24.308, 'train_steps_per_second': 3.039, 'train_loss': 2.558201904296875, 'epoch': 3.0}\n"
     ]
    },
    {
     "name": "stderr",
     "output_type": "stream",
     "text": [
      "\n"
     ]
    },
    {
     "data": {
      "text/plain": [
       "TrainOutput(global_step=3000, training_loss=2.558201904296875, metrics={'train_runtime': 987.3166, 'train_samples_per_second': 24.308, 'train_steps_per_second': 3.039, 'total_flos': 1624101617664000.0, 'train_loss': 2.558201904296875, 'epoch': 3.0})"
      ]
     },
     "execution_count": 92,
     "metadata": {},
     "output_type": "execute_result"
    }
   ],
   "source": [
    "trainer.train()"
   ]
  },
  {
   "cell_type": "code",
   "execution_count": 98,
   "metadata": {},
   "outputs": [
    {
     "name": "stdout",
     "output_type": "stream",
     "text": [
      "Pergunta: You are a book expert and should answer any question involving this title Collins German Unabridged Dictionary 5th Edition (Harpercollins Unabridged Dictionaries)\n",
      "Resposta: &#8220;This text refers to the Collins German Unabridged Dictionary 5th Edition of this title.\n"
     ]
    }
   ],
   "source": [
    "# Função para perguntas\n",
    "def ask_question(question, model, tokenizer, device):\n",
    "    inputs = tokenizer(question, return_tensors=\"pt\")\n",
    "    inputs = {key: value.to(device) for key, value in inputs.items()}  # Modificação: Move os dados para o dispositivo correto\n",
    "    outputs = model.generate(\n",
    "    **inputs, \n",
    "    max_length=512,  # Corrigido: max_length\n",
    "    num_beams=10,  # Beam search para respostas melhores\n",
    "    no_repeat_ngram_size=2,  # Evitar repetições\n",
    "    temperature=0.7,  # Controlar aleatoriedade\n",
    "    top_k=50,  # Filtrar os 50 tokens mais prováveis\n",
    "    top_p=0.95,  # Top-p sampling para diversidade\n",
    "    do_sample=True\n",
    ")\n",
    "    return tokenizer.decode(outputs[0], skip_special_tokens=True)\n",
    "\n",
    "# Exemplo de teste\n",
    "question = \"You are a book expert and should answer any question involving this title Collins German Unabridged Dictionary 5th Edition (Harpercollins Unabridged Dictionaries)\"\n",
    "response = ask_question(question, model, tokenizer, device)\n",
    "print(\"Pergunta:\", question)\n",
    "print(\"Resposta:\", response)"
   ]
  }
 ],
 "metadata": {
  "kernelspec": {
   "display_name": "Python 3",
   "language": "python",
   "name": "python3"
  },
  "language_info": {
   "codemirror_mode": {
    "name": "ipython",
    "version": 3
   },
   "file_extension": ".py",
   "mimetype": "text/x-python",
   "name": "python",
   "nbconvert_exporter": "python",
   "pygments_lexer": "ipython3",
   "version": "3.10.12"
  }
 },
 "nbformat": 4,
 "nbformat_minor": 2
}
